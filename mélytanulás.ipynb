{
  "nbformat": 4,
  "nbformat_minor": 0,
  "metadata": {
    "colab": {
      "name": "mélytanulás.ipynb",
      "provenance": [],
      "collapsed_sections": [],
      "include_colab_link": true
    },
    "kernelspec": {
      "name": "python3",
      "display_name": "Python 3"
    },
    "language_info": {
      "name": "python"
    },
    "accelerator": "GPU"
  },
  "cells": [
    {
      "cell_type": "markdown",
      "metadata": {
        "id": "view-in-github",
        "colab_type": "text"
      },
      "source": [
        "<a href=\"https://colab.research.google.com/github/molnaredom/melytanulas/blob/main/m%C3%A9lytanul%C3%A1s.ipynb\" target=\"_parent\"><img src=\"https://colab.research.google.com/assets/colab-badge.svg\" alt=\"Open In Colab\"/></a>"
      ]
    },
    {
      "cell_type": "markdown",
      "metadata": {
        "id": "p1lQDYGBuHDP"
      },
      "source": [
        "**Dokumentáció**\n",
        "\n",
        "https://docs.google.com/document/d/14W1howYV8TCEDbZITHbYIpD_vMSsvbOTG4_msmGppHw/edit\n",
        "\n",
        "\n"
      ]
    },
    {
      "cell_type": "markdown",
      "metadata": {
        "id": "7a_eQO3w7hx2"
      },
      "source": [
        "# Adatok beolvasása"
      ]
    },
    {
      "cell_type": "code",
      "metadata": {
        "id": "I8bZwmm_1_OM"
      },
      "source": [
        "import pandas as pd\n",
        "from sklearn.preprocessing import MinMaxScaler\n",
        "import numpy as np\n",
        "from sklearn.preprocessing import LabelEncoder, OneHotEncoder"
      ],
      "execution_count": 1,
      "outputs": []
    },
    {
      "cell_type": "code",
      "metadata": {
        "id": "tnlwasiTnEqF",
        "colab": {
          "base_uri": "https://localhost:8080/"
        },
        "outputId": "3c7cca29-af1e-4c3c-dbf4-d3f48eb5ec83"
      },
      "source": [
        "# Default settings\n",
        "def set_df_disp(maxrow=False, max_col=False, maxwidth=False, maxcolwidth=False):\n",
        "    \"\"\"\n",
        "    :param maxrow:\n",
        "    :param max_col:\n",
        "    :param maxwidth:\n",
        "    :param maxcolwidth:\n",
        "    :return:\n",
        "    \"\"\"\n",
        "    if maxrow:\n",
        "        pd.set_option('display.max_rows', None)\n",
        "    if max_col:\n",
        "        pd.set_option('display.max_columns', None)\n",
        "    if maxwidth:\n",
        "        pd.set_option('display.width', None)\n",
        "    if maxcolwidth:\n",
        "        pd.set_option('display.max_colwidth', -1)\n",
        "\n",
        "set_df_disp(maxwidth= True, maxcolwidth=True, max_col=True, maxrow=True)"
      ],
      "execution_count": 2,
      "outputs": [
        {
          "output_type": "stream",
          "name": "stderr",
          "text": [
            "/usr/local/lib/python3.7/dist-packages/ipykernel_launcher.py:17: FutureWarning: Passing a negative integer is deprecated in version 1.0 and will not be supported in future version. Instead, use None to not limit the column width.\n"
          ]
        }
      ]
    },
    {
      "cell_type": "code",
      "metadata": {
        "colab": {
          "base_uri": "https://localhost:8080/"
        },
        "id": "x10niBXn16NZ",
        "outputId": "8a2aac77-b232-4032-a279-752bd4607027"
      },
      "source": [
        "# data reading\n",
        "\n",
        "\n",
        "data = pd.read_csv(\"https://raw.githubusercontent.com/molnaredom/melytanulas/main/train_data.csv\", sep=',', error_bad_lines=False)\n",
        "\n",
        "#normalize data\n",
        "scaler = MinMaxScaler()\n",
        "data=pd.DataFrame(scaler.fit_transform(data),columns=data.columns, index=data.index) \n",
        "\n",
        "# shuffle train data, with seed\n",
        "data_shuffled = data.sample(frac=1, random_state=1)\n",
        "\n",
        "# label\n",
        "print(data_shuffled.head())"
      ],
      "execution_count": 3,
      "outputs": [
        {
          "output_type": "stream",
          "name": "stdout",
          "text": [
            "     Subject id  Jitter (local)  Jitter (local absolute)  Jitter (rap)  \\\n",
            "705  0.692308    0.049062        0.046388                 0.029042       \n",
            "447  0.435897    0.681728        0.274632                 0.572165       \n",
            "748  0.717949    0.117581        0.194259                 0.093664       \n",
            "592  0.564103    0.201043        0.249267                 0.213226       \n",
            "80   0.076923    0.027844        0.020793                 0.036963       \n",
            "\n",
            "     Jitter (ppq5)  Jitter (ddp)  Shimmer (local)  Shimmer (local dB)  \\\n",
            "705  0.024441       0.029125      0.189127         0.323147             \n",
            "447  0.412971       0.572225      0.576942         0.676853             \n",
            "748  0.065745       0.093743      0.342086         0.475936             \n",
            "592  0.128297       0.213217      0.324564         0.474026             \n",
            "80   0.019909       0.036961      0.170029         0.263560             \n",
            "\n",
            "     Shimmer (apq3)  Shimmer (apq5)   Shimmer (apq11)  Shimmer (dda)  \\\n",
            "705  0.114358        0.073997        0.175424          0.114373        \n",
            "447  0.633786        0.179822        0.478313          0.633781        \n",
            "748  0.225083        0.140592        0.448324          0.225073        \n",
            "592  0.165416        0.110683        0.520532          0.165405        \n",
            "80   0.137814        0.054940        0.122788          0.137803        \n",
            "\n",
            "           AC       NTH       HTN  Median pitch  Mean pitch  \\\n",
            "705  0.871289  0.077546  0.471378  0.354181      0.329418     \n",
            "447  0.308497  0.575660  0.099304  0.942564      0.940329     \n",
            "748  0.724904  0.176797  0.308408  0.100641      0.094570     \n",
            "592  0.615068  0.295831  0.270678  0.178862      0.182840     \n",
            "80   0.939977  0.034142  0.583956  0.452182      0.457890     \n",
            "\n",
            "     Standard deviation  Minimum pitch  Maximum pitch  Number of pulses  \\\n",
            "705  0.045694            0.302755       0.268416       0.027517           \n",
            "447  0.016285            0.969226       0.724920       0.028859           \n",
            "748  0.025550            0.099272       0.087838       0.034228           \n",
            "592  0.042496            0.181779       0.183813       0.045638           \n",
            "80   0.048285            0.441238       0.401682       0.273826           \n",
            "\n",
            "     Number of periods  Mean period  Standard deviation of period  \\\n",
            "705  0.026864           0.271646     0.044738                       \n",
            "447  0.022834           0.017160     0.123682                       \n",
            "748  0.033580           0.634199     0.082979                       \n",
            "592  0.044997           0.447032     0.079047                       \n",
            "80   0.273338           0.180152     0.025460                       \n",
            "\n",
            "      features 24-26: Fraction of locally unvoiced frames  \\\n",
            "705  0.000000                                               \n",
            "447  0.855112                                               \n",
            "748  0.050409                                               \n",
            "592  0.444531                                               \n",
            "80   0.000000                                               \n",
            "\n",
            "     Number of voice breaks  Degree of voice breaks     UPDRS  \\\n",
            "705  0.0                     0.0                     0.000000   \n",
            "447  0.0                     0.0                     0.574074   \n",
            "748  0.0                     0.0                     0.000000   \n",
            "592  0.0                     0.0                     0.000000   \n",
            "80   0.0                     0.0                     0.074074   \n",
            "\n",
            "     class information  \n",
            "705  0.0                \n",
            "447  1.0                \n",
            "748  0.0                \n",
            "592  0.0                \n",
            "80   1.0                \n"
          ]
        }
      ]
    },
    {
      "cell_type": "code",
      "metadata": {
        "colab": {
          "base_uri": "https://localhost:8080/",
          "height": 282
        },
        "id": "hI5A1-o0dboB",
        "outputId": "1b9c8d4a-19b4-4c69-b8d3-c877a5552575"
      },
      "source": [
        "data_shuffled[\"class information\"].hist( )"
      ],
      "execution_count": 4,
      "outputs": [
        {
          "output_type": "execute_result",
          "data": {
            "text/plain": [
              "<matplotlib.axes._subplots.AxesSubplot at 0x7fdce91e3950>"
            ]
          },
          "metadata": {},
          "execution_count": 4
        },
        {
          "output_type": "display_data",
          "data": {
            "image/png": "[encoded data removed]",
            "text/plain": [
              "<Figure size 432x288 with 1 Axes>"
            ]
          },
          "metadata": {
            "needs_background": "light"
          }
        }
      ]
    },
    {
      "cell_type": "code",
      "metadata": {
        "colab": {
          "base_uri": "https://localhost:8080/",
          "height": 282
        },
        "id": "T5NMzZDMgIjj",
        "outputId": "01ca9e84-8449-48ad-f92e-3011a2cd589c"
      },
      "source": [
        "data_shuffled[\"UPDRS\"].hist( )"
      ],
      "execution_count": 5,
      "outputs": [
        {
          "output_type": "execute_result",
          "data": {
            "text/plain": [
              "<matplotlib.axes._subplots.AxesSubplot at 0x7fdce9159650>"
            ]
          },
          "metadata": {},
          "execution_count": 5
        },
        {
          "output_type": "display_data",
          "data": {
            "image/png": "[encoded data removed]",
            "text/plain": [
              "<Figure size 432x288 with 1 Axes>"
            ]
          },
          "metadata": {
            "needs_background": "light"
          }
        }
      ]
    },
    {
      "cell_type": "code",
      "metadata": {
        "colab": {
          "base_uri": "https://localhost:8080/"
        },
        "id": "jd7SG-t1boRf",
        "outputId": "e16816cf-ea6f-4ea3-b41c-ed3b98f6dace"
      },
      "source": [
        "# separate train data for train and validation dataframe\n",
        "train = data_shuffled.iloc[:800,:]\n",
        "validation = data_shuffled.iloc[800:,:]\n",
        "\n",
        "# separate dataframes for label and features df\n",
        "train_class_label = train[\"class information\"].apply(lambda x: int(x))\n",
        "train_UPDRS_label = train[\"UPDRS\"]\n",
        "train_features = train.iloc[:,1:-2]\n",
        "\n",
        "validation_class_label = validation[\"class information\"].apply(lambda x: int(x))\n",
        "validation_UPDRS_label =validation[\"UPDRS\"]\n",
        "validation_features = validation.iloc[:,1:-2]\n",
        "\n",
        "\n",
        "print(\"Shapes\",\n",
        "      \"\\ntrain_class_label\" , train_class_label.shape,\n",
        "      \"\\ntrain_UPDRS_label\", train_UPDRS_label.shape,\n",
        "      \"\\ntrain_features:\", train_features.shape,\n",
        "\n",
        "      \"\\n\\nvalidation_class_label:\",validation_class_label.shape,\n",
        "      \"\\nvalidation_UPDRS_label:\",validation_UPDRS_label.shape,\n",
        "      \"\\nvalidation_features:\", validation_features.shape, \n",
        "      )"
      ],
      "execution_count": 6,
      "outputs": [
        {
          "output_type": "stream",
          "name": "stdout",
          "text": [
            "Shapes \n",
            "train_class_label (800,) \n",
            "train_UPDRS_label (800,) \n",
            "train_features: (800, 26) \n",
            "\n",
            "validation_class_label: (240,) \n",
            "validation_UPDRS_label: (240,) \n",
            "validation_features: (240, 26)\n"
          ]
        }
      ]
    },
    {
      "cell_type": "code",
      "metadata": {
        "id": "JzpgHcwKc3ZP",
        "colab": {
          "base_uri": "https://localhost:8080/"
        },
        "outputId": "a83eeb60-8dfd-4b1e-f629-6b2693d2ce15"
      },
      "source": [
        "# Read test data\n",
        "\n",
        "test_data = pd.read_csv(\"https://raw.githubusercontent.com/molnaredom/melytanulas/main/test_data.csv\",\n",
        "                                       sep=',', error_bad_lines=False)\n",
        "\n",
        "#shuffle\n",
        "test_data = test_data.sample(frac=1, random_state=1)\n",
        "\n",
        "\n",
        "scaler = MinMaxScaler()\n",
        "test_features = test_data.iloc[:,1:-1]# 1-st col Subject id thrown, -1col labels ignored\n",
        "test_classlabels = test_data.iloc[:,-1:]\n",
        "\n",
        "#normalize only features data\n",
        "test_features=pd.DataFrame(scaler.fit_transform(test_features),columns=test_features.columns, index=test_features.index)\n",
        "\n",
        "print(test_classlabels.head())\n",
        "print(test_features.head())\n"
      ],
      "execution_count": 23,
      "outputs": [
        {
          "output_type": "stream",
          "name": "stdout",
          "text": [
            "     class information\n",
            "40   1                \n",
            "132  1                \n",
            "4    1                \n",
            "148  1                \n",
            "116  1                \n",
            "     Jitter (local)  Jitter (local absolute)  Jitter (rap)  Jitter (ppq5)  \\\n",
            "40   0.096308        0.054301                 0.118491      0.109725        \n",
            "132  0.173081        0.218115                 0.213585      0.126679        \n",
            "4    0.006056        0.005248                 0.012075      0.011196        \n",
            "148  0.079703        0.054985                 0.099245      0.079974        \n",
            "116  0.079703        0.069815                 0.089434      0.066859        \n",
            "\n",
            "     Jitter (ddp)  Shimmer (local)  Shimmer (local dB)  Shimmer (apq3)  \\\n",
            "40   0.118601      0.244791         0.252671            0.264063         \n",
            "132  0.213558      0.361044         0.395833            0.378862         \n",
            "4    0.012200      0.010353         0.010150            0.012042         \n",
            "148  0.099484      0.353762         0.379808            0.356203         \n",
            "116  0.089423      0.198421         0.236111            0.181746         \n",
            "\n",
            "     Shimmer (apq5)   Shimmer (apq11)  Shimmer (dda)        AC       NTH  \\\n",
            "40   0.336337        0.349170          0.264043       0.957153  0.026431   \n",
            "132  0.340979        0.665315          0.378872       0.770143  0.160141   \n",
            "4    0.019388        0.002221          0.012043       0.999188  0.000495   \n",
            "148  0.513290        0.546929          0.356186       0.856884  0.093531   \n",
            "116  0.259694        0.360274          0.181725       0.842216  0.123363   \n",
            "\n",
            "          HTN  Median pitch  Mean pitch  Standard deviation  Minimum pitch  \\\n",
            "40   0.505396  0.887600      0.743454    0.979031            0.189894        \n",
            "132  0.287798  0.117341      0.117212    0.026686            0.132418        \n",
            "4    0.924284  0.723503      0.716404    0.010909            0.736821        \n",
            "148  0.345964  0.578199      0.572582    0.025414            0.578648        \n",
            "116  0.353481  0.394338      0.389042    0.034040            0.390097        \n",
            "\n",
            "     Maximum pitch  Number of pulses  Number of periods  Mean period  \\\n",
            "40   0.773451       0.789954          0.785388           0.093312      \n",
            "132  0.102424       0.296804          0.296804           0.697047      \n",
            "4    0.601012       0.776256          0.776256           0.107826      \n",
            "148  0.483996       0.657534          0.657534           0.185704      \n",
            "116  0.329292       0.511416          0.511416           0.324241      \n",
            "\n",
            "     Standard deviation of period  Fraction of locally unvoiced frames  \\\n",
            "40   0.536910                      0.0                                   \n",
            "132  0.065719                      0.0                                   \n",
            "4    0.000785                      0.0                                   \n",
            "148  0.014053                      0.0                                   \n",
            "116  0.032653                      0.0                                   \n",
            "\n",
            "     Number of voice breaks  Degree of voice breaks  \n",
            "40   0.0                     0.0                     \n",
            "132  0.0                     0.0                     \n",
            "4    0.0                     0.0                     \n",
            "148  0.0                     0.0                     \n",
            "116  0.0                     0.0                     \n"
          ]
        }
      ]
    },
    {
      "cell_type": "markdown",
      "metadata": {
        "id": "WPVGtHPVZnq-"
      },
      "source": [
        "# Baseline\n"
      ]
    },
    {
      "cell_type": "code",
      "metadata": {
        "id": "4iocnZXq0-7X"
      },
      "source": [
        "# decision tree\n",
        "from sklearn import tree\n",
        "import pydot\n",
        "import graphviz\n",
        "dt = tree.DecisionTreeClassifier()\n",
        "dt.fit(train_features, train_class_label)\n",
        "\n",
        "\n",
        "!apt-get -qq install -y graphviz && pip install -q pydot\n",
        "!pip install graphviz\n",
        "graphviz.Source(tree.export_graphviz(dt, out_file=None))"
      ],
      "execution_count": null,
      "outputs": []
    },
    {
      "cell_type": "code",
      "metadata": {
        "id": "7yDFOEWx5rSW"
      },
      "source": [
        "# prediction\n",
        "from sklearn.metrics import classification_report\n",
        "prediction = dt.predict(validation_features)\n",
        "print(classification_report(validation_class_label, prediction))\n"
      ],
      "execution_count": null,
      "outputs": []
    },
    {
      "cell_type": "markdown",
      "metadata": {
        "id": "lZ7Vy3WQaE6V"
      },
      "source": [
        "# Deep Learning"
      ]
    },
    {
      "cell_type": "code",
      "metadata": {
        "id": "2UoD-7g3aRIv"
      },
      "source": [
        "from tensorflow import keras\n",
        "from tensorflow.keras import backend as K\n",
        "# dropout egyelőre nem kell, nem csinál semmit, de kell, mert túltanul te f\n",
        "# TODO multi-task tanítás (udprs & [0-1])\n",
        "# TODO class\n",
        "# def func(x):\n",
        "#     greater = K.greater_equal(x, 0.5) #will return boolean values\n",
        "#     greater = K.cast(greater, dtype=K.floatx()) #will convert bool to 0 and 1    \n",
        "#     return greater \n",
        "model = keras.Sequential(\n",
        "    [\n",
        "        keras.layers.Dense(300, activation=\"relu\", input_shape=(train_features.shape[-1],)),\n",
        "        keras.layers.Dropout(0.1),\n",
        "        keras.layers.Dense(300, activation=\"relu\"),\n",
        "        keras.layers.Dropout(0.1),\n",
        "        keras.layers.Dense(300, activation=\"relu\"),\n",
        "        keras.layers.Dropout(0.1),\n",
        "        keras.layers.Dense(300, activation=\"relu\"),\n",
        "        keras.layers.Dropout(0.1),\n",
        "        keras.layers.Dense(1, activation=\"sigmoid\"),\n",
        "    ]\n",
        ")\n",
        "# model.add(keras.layers.Lambda(func))\n",
        "model.summary()"
      ],
      "execution_count": null,
      "outputs": []
    },
    {
      "cell_type": "code",
      "metadata": {
        "id": "B-eix8ThrizM"
      },
      "source": [
        ""
      ],
      "execution_count": null,
      "outputs": []
    },
    {
      "cell_type": "code",
      "metadata": {
        "id": "FHzcX7F5sLke"
      },
      "source": [
        "metrics = [\n",
        "    keras.metrics.Accuracy(name=\"acc\"),\n",
        "    keras.metrics.Precision(name=\"precision\"),\n",
        "    keras.metrics.Recall(name=\"recall\"),\n",
        "]\n",
        "\n",
        "model.compile(\n",
        "    optimizer=keras.optimizers.Adam(1e-2), loss=\"binary_crossentropy\", metrics=metrics\n",
        ")\n",
        "\n",
        "\n",
        "history = model.fit(\n",
        "    train_features.to_numpy(),\n",
        "    train_class_label.to_numpy(),\n",
        "    batch_size=128,\n",
        "    epochs=1000,\n",
        "    verbose=2,\n",
        "    validation_data=(validation_features.to_numpy(), validation_class_label.to_numpy()),\n",
        ")\n",
        "score = model.evaluate(test_features, test_class_label, verbose=2)\n",
        "print('Test loss:', score[0])\n",
        "print('Test accuracy:', score[1])\n",
        "\n",
        "\n",
        "# model.save_weights(\"/path/to/model.h5\")\n",
        "output = keras.layers.Lambda(lambda x: K.round(x)) (model.output)\n",
        "m1 = keras.Model(model.input, output)\n",
        "# m1.load_weights(\"/path/to/model.h5\")"
      ],
      "execution_count": null,
      "outputs": []
    },
    {
      "cell_type": "code",
      "metadata": {
        "id": "A1dTYP3S6Tfj"
      },
      "source": [
        "# Loss és Acc görbék rajzolása matplotlib-bel, erős ctrlv\n",
        "import matplotlib.pyplot as plt\n",
        "hist = pd.DataFrame(history.history)\n",
        "hist['epoch'] = history.epoch\n",
        "print(hist.tail())\n",
        "\n",
        "def plot_history(history):\n",
        "    plt.figure()\n",
        "    plt.xlabel('Epoch')\n",
        "    plt.ylabel('loss and val_loss')\n",
        "    plt.plot(hist['epoch'], hist['loss'], label='loss')\n",
        "    plt.plot(hist['epoch'], hist['val_loss'], label = 'val_loss')\n",
        "    plt.legend()\n",
        "    plt.ylim([(min(hist['loss'].min(), hist['val_loss'].min()))*0.9,\n",
        "              (max(hist['loss'].max(), hist['val_loss'].max()))*1.1])\n",
        "\n",
        "    plt.figure()\n",
        "    plt.xlabel('Epoch')\n",
        "    plt.ylabel('Accuracy')\n",
        "    plt.plot(hist['epoch'], hist['acc'],\n",
        "           label='Accuracy')\n",
        "    plt.plot(hist['epoch'], hist['val_acc'],\n",
        "           label = 'Validation Accuracy')\n",
        "    plt.legend()\n",
        "    plt.ylim([(min(hist['acc'].min(), hist['val_acc'].min()))*0.9,\n",
        "              (max(hist['acc'].max(), hist['val_acc'].max()))*1.1])\n",
        "\n",
        "\n",
        "plot_history(history)\n",
        "\n",
        "res = model.predict(test_features)\n",
        "for a,b in zip(res, test_class_label):\n",
        "  print(a,b)"
      ],
      "execution_count": null,
      "outputs": []
    }
  ]
}
{
  "nbformat": 4,
  "nbformat_minor": 0,
  "metadata": {
    "colab": {
      "name": "mélytanulás.ipynb",
      "provenance": [],
      "collapsed_sections": [],
      "toc_visible": true,
      "include_colab_link": true
    },
    "kernelspec": {
      "name": "python3",
      "display_name": "Python 3"
    },
    "language_info": {
      "name": "python"
    }
  },
  "cells": [
    {
      "cell_type": "markdown",
      "metadata": {
        "id": "view-in-github",
        "colab_type": "text"
      },
      "source": [
        "<a href=\"https://colab.research.google.com/github/molnaredom/melytanulas/blob/main/m%C3%A9lytanul%C3%A1s.ipynb\" target=\"_parent\"><img src=\"https://colab.research.google.com/assets/colab-badge.svg\" alt=\"Open In Colab\"/></a>"
      ]
    },
    {
      "cell_type": "markdown",
      "metadata": {
        "id": "p1lQDYGBuHDP"
      },
      "source": [
        "**1.rész**# Adatok beolvasása\n",
        "\n",
        "\n",
        "```\n",
        "# Ez kódként van formázva\n",
        "```\n",
        "\n",
        "\n"
      ]
    },
    {
      "cell_type": "markdown",
      "metadata": {
        "id": "7a_eQO3w7hx2"
      },
      "source": [
        "# Adatok beolvasása"
      ]
    },
    {
      "cell_type": "code",
      "metadata": {
        "id": "I8bZwmm_1_OM"
      },
      "source": [
        "import pandas as pd"
      ],
      "execution_count": null,
      "outputs": []
    },
    {
      "cell_type": "code",
      "metadata": {
        "colab": {
          "base_uri": "https://localhost:8080/"
        },
        "id": "x10niBXn16NZ",
        "outputId": "926c0ce6-5295-4c26-96aa-9f7b716810dd"
      },
      "source": [
        "\n",
        "train_data = pd.read_csv(\"https://raw.githubusercontent.com/molnaredom/melytanulas/main/train_data.txt\",\n",
        "                                      sep=',', header=None, error_bad_lines=False)\n",
        "print(\"train_data's shape:\",train_data.shape)\n",
        "print(train_data.head(),\"\\n\\n\")\n",
        "\n",
        "\n",
        "test_data = pd.read_csv(\"https://raw.githubusercontent.com/molnaredom/melytanulas/main/test_data.txt\",\n",
        "                                      sep=',', header=None, error_bad_lines=False)\n",
        "print(\"test_data's shape:\",test_data.shape)\n",
        "print(test_data.head)\n",
        "\n",
        "asd"
      ],
      "execution_count": null,
      "outputs": [
        {
          "output_type": "stream",
          "name": "stdout",
          "text": [
            "train_data's shape: (1040, 29)\n",
            "   0      1         2      3      4   ...      24  25      26  27  28\n",
            "0   1  1.488  0.000090  0.900  0.794  ...   0.000   0   0.000  23   1\n",
            "1   1  0.728  0.000038  0.353  0.376  ...   2.247   0   0.000  23   1\n",
            "2   1  1.220  0.000074  0.732  0.670  ...  10.656   1   0.178  23   1\n",
            "3   1  2.502  0.000123  1.156  1.634  ...   0.000   0   0.000  23   1\n",
            "4   1  3.509  0.000167  1.715  1.539  ...  18.182   1  13.318  23   1\n",
            "\n",
            "[5 rows x 29 columns] \n",
            "\n",
            "\n",
            "test_data's shape: (168, 28)\n",
            "<bound method NDFrame.head of      0      1         2      3      4   ...        23   24   25   26  27\n",
            "0     1  0.135  0.000007  0.067  0.078  ...  0.000025  0.0  0.0  0.0   1\n",
            "1     1  0.143  0.000007  0.073  0.081  ...  0.000020  0.0  0.0  0.0   1\n",
            "2     1  0.162  0.000008  0.087  0.089  ...  0.000046  0.0  0.0  0.0   1\n",
            "3     1  0.140  0.000007  0.075  0.089  ...  0.000023  0.0  0.0  0.0   1\n",
            "4     1  0.150  0.000007  0.080  0.097  ...  0.000022  0.0  0.0  0.0   1\n",
            "..   ..    ...       ...    ...    ...  ...       ...  ...  ...  ...  ..\n",
            "163  28  0.257  0.000018  0.105  0.122  ...  0.000407  0.0  0.0  0.0   1\n",
            "164  28  0.311  0.000021  0.129  0.148  ...  0.000619  0.0  0.0  0.0   1\n",
            "165  28  0.434  0.000029  0.178  0.229  ...  0.000768  0.0  0.0  0.0   1\n",
            "166  28  0.464  0.000031  0.195  0.227  ...  0.000834  0.0  0.0  0.0   1\n",
            "167  28  0.474  0.000031  0.179  0.230  ...  0.000904  0.0  0.0  0.0   1\n",
            "\n",
            "[168 rows x 28 columns]>\n"
          ]
        }
      ]
    }
  ]
}